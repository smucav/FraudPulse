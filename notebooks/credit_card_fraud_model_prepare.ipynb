{
  "nbformat": 4,
  "nbformat_minor": 0,
  "metadata": {
    "colab": {
      "provenance": []
    },
    "kernelspec": {
      "name": "python3",
      "display_name": "Python 3"
    },
    "language_info": {
      "name": "python"
    }
  },
  "cells": [
    {
      "cell_type": "markdown",
      "source": [
        "# ------------------------------\n",
        "# Prepare creditcard.csv for Fraud Detection Modeling\n",
        "# ------------------------------"
      ],
      "metadata": {
        "id": "Jv1B77TTJCkV"
      }
    },
    {
      "cell_type": "code",
      "execution_count": 1,
      "metadata": {
        "id": "S-YXwkulIKGO"
      },
      "outputs": [],
      "source": [
        "import pandas as pd\n",
        "import numpy as np\n",
        "from sklearn.model_selection import train_test_split\n",
        "from sklearn.preprocessing import StandardScaler\n",
        "from imblearn.over_sampling import SMOTE\n",
        "import joblib\n",
        "from google.colab import drive"
      ]
    },
    {
      "cell_type": "markdown",
      "source": [
        "# ------------------------------\n",
        "# 1️⃣ Load creditcard.csv\n",
        "# ------------------------------"
      ],
      "metadata": {
        "id": "wsD0-gDIJmNk"
      }
    },
    {
      "cell_type": "code",
      "source": [
        "drive.mount('/content/drive')\n",
        "df = pd.read_csv('/content/drive/MyDrive/FraudPulse/data/raw/creditcard.csv')\n",
        "\n",
        "print(df.head())\n",
        "print(df.info())\n",
        "print(df['Class'].value_counts(normalize=True))"
      ],
      "metadata": {
        "colab": {
          "base_uri": "https://localhost:8080/"
        },
        "id": "usKFunEwJjqw",
        "outputId": "6133704b-2cd0-45c7-f210-ca30fbc69b93"
      },
      "execution_count": 3,
      "outputs": [
        {
          "output_type": "stream",
          "name": "stdout",
          "text": [
            "Mounted at /content/drive\n",
            "   Time        V1        V2        V3        V4        V5        V6        V7  \\\n",
            "0   0.0 -1.359807 -0.072781  2.536347  1.378155 -0.338321  0.462388  0.239599   \n",
            "1   0.0  1.191857  0.266151  0.166480  0.448154  0.060018 -0.082361 -0.078803   \n",
            "2   1.0 -1.358354 -1.340163  1.773209  0.379780 -0.503198  1.800499  0.791461   \n",
            "3   1.0 -0.966272 -0.185226  1.792993 -0.863291 -0.010309  1.247203  0.237609   \n",
            "4   2.0 -1.158233  0.877737  1.548718  0.403034 -0.407193  0.095921  0.592941   \n",
            "\n",
            "         V8        V9  ...       V21       V22       V23       V24       V25  \\\n",
            "0  0.098698  0.363787  ... -0.018307  0.277838 -0.110474  0.066928  0.128539   \n",
            "1  0.085102 -0.255425  ... -0.225775 -0.638672  0.101288 -0.339846  0.167170   \n",
            "2  0.247676 -1.514654  ...  0.247998  0.771679  0.909412 -0.689281 -0.327642   \n",
            "3  0.377436 -1.387024  ... -0.108300  0.005274 -0.190321 -1.175575  0.647376   \n",
            "4 -0.270533  0.817739  ... -0.009431  0.798278 -0.137458  0.141267 -0.206010   \n",
            "\n",
            "        V26       V27       V28  Amount  Class  \n",
            "0 -0.189115  0.133558 -0.021053  149.62      0  \n",
            "1  0.125895 -0.008983  0.014724    2.69      0  \n",
            "2 -0.139097 -0.055353 -0.059752  378.66      0  \n",
            "3 -0.221929  0.062723  0.061458  123.50      0  \n",
            "4  0.502292  0.219422  0.215153   69.99      0  \n",
            "\n",
            "[5 rows x 31 columns]\n",
            "<class 'pandas.core.frame.DataFrame'>\n",
            "RangeIndex: 284807 entries, 0 to 284806\n",
            "Data columns (total 31 columns):\n",
            " #   Column  Non-Null Count   Dtype  \n",
            "---  ------  --------------   -----  \n",
            " 0   Time    284807 non-null  float64\n",
            " 1   V1      284807 non-null  float64\n",
            " 2   V2      284807 non-null  float64\n",
            " 3   V3      284807 non-null  float64\n",
            " 4   V4      284807 non-null  float64\n",
            " 5   V5      284807 non-null  float64\n",
            " 6   V6      284807 non-null  float64\n",
            " 7   V7      284807 non-null  float64\n",
            " 8   V8      284807 non-null  float64\n",
            " 9   V9      284807 non-null  float64\n",
            " 10  V10     284807 non-null  float64\n",
            " 11  V11     284807 non-null  float64\n",
            " 12  V12     284807 non-null  float64\n",
            " 13  V13     284807 non-null  float64\n",
            " 14  V14     284807 non-null  float64\n",
            " 15  V15     284807 non-null  float64\n",
            " 16  V16     284807 non-null  float64\n",
            " 17  V17     284807 non-null  float64\n",
            " 18  V18     284807 non-null  float64\n",
            " 19  V19     284807 non-null  float64\n",
            " 20  V20     284807 non-null  float64\n",
            " 21  V21     284807 non-null  float64\n",
            " 22  V22     284807 non-null  float64\n",
            " 23  V23     284807 non-null  float64\n",
            " 24  V24     284807 non-null  float64\n",
            " 25  V25     284807 non-null  float64\n",
            " 26  V26     284807 non-null  float64\n",
            " 27  V27     284807 non-null  float64\n",
            " 28  V28     284807 non-null  float64\n",
            " 29  Amount  284807 non-null  float64\n",
            " 30  Class   284807 non-null  int64  \n",
            "dtypes: float64(30), int64(1)\n",
            "memory usage: 67.4 MB\n",
            "None\n",
            "Class\n",
            "0    0.998273\n",
            "1    0.001727\n",
            "Name: proportion, dtype: float64\n"
          ]
        }
      ]
    },
    {
      "cell_type": "markdown",
      "source": [
        "\n",
        "# ------------------------------\n",
        "# 2️⃣ Separate Features & Target\n",
        "# ------------------------------"
      ],
      "metadata": {
        "id": "CjHAUFthKFQh"
      }
    },
    {
      "cell_type": "code",
      "source": [
        "X = df.drop('Class', axis=1)\n",
        "y = df['Class']"
      ],
      "metadata": {
        "id": "besEUwG0KE7N"
      },
      "execution_count": 4,
      "outputs": []
    },
    {
      "cell_type": "markdown",
      "source": [
        "# ------------------------------\n",
        "# 3️⃣ Train-Test Split\n",
        "# ------------------------------"
      ],
      "metadata": {
        "id": "haDSXw7IKMc5"
      }
    },
    {
      "cell_type": "code",
      "source": [
        "X_train, X_test, y_train, y_test = train_test_split(\n",
        "    X, y,\n",
        "    test_size=0.3,\n",
        "    stratify=y,\n",
        "    random_state=42\n",
        ")\n",
        "\n",
        "print(f\"Train shape: {X_train.shape}, Test shape: {X_test.shape}\")"
      ],
      "metadata": {
        "colab": {
          "base_uri": "https://localhost:8080/"
        },
        "id": "3dnO0CO0KMPs",
        "outputId": "02293f63-f619-416c-84b6-d0f75b48bfb0"
      },
      "execution_count": 6,
      "outputs": [
        {
          "output_type": "stream",
          "name": "stdout",
          "text": [
            "Train shape: (199364, 30), Test shape: (85443, 30)\n"
          ]
        }
      ]
    },
    {
      "cell_type": "markdown",
      "source": [
        "# ------------------------------\n",
        "# 4️⃣ Scale Numeric Features\n",
        "# ------------------------------"
      ],
      "metadata": {
        "id": "o8q3O9q5KTuf"
      }
    },
    {
      "cell_type": "code",
      "source": [
        "# For creditcard.csv, all V1–V28 + Amount are numeric\n",
        "scaler = StandardScaler()\n",
        "\n",
        "# Fit only on training set\n",
        "X_train_scaled = scaler.fit_transform(X_train)\n",
        "X_test_scaled = scaler.transform(X_test)\n"
      ],
      "metadata": {
        "id": "8AfCXYhJKMLU"
      },
      "execution_count": 7,
      "outputs": []
    },
    {
      "cell_type": "markdown",
      "source": [
        "# ------------------------------\n",
        "# 5️⃣ Handle Class Imbalance (SMOTE)\n",
        "# ------------------------------\n"
      ],
      "metadata": {
        "id": "b7NPxkk0Kafe"
      }
    },
    {
      "cell_type": "code",
      "source": [
        "smote = SMOTE(random_state=42)\n",
        "X_train_res, y_train_res = smote.fit_resample(X_train_scaled, y_train)\n",
        "\n",
        "print(f\"Train shape after SMOTE: {X_train_res.shape}, {y_train_res.shape}\")"
      ],
      "metadata": {
        "colab": {
          "base_uri": "https://localhost:8080/"
        },
        "id": "Y9lPw4QoKMGY",
        "outputId": "04c59c01-90df-4a86-e1ad-6ae69457a45b"
      },
      "execution_count": 8,
      "outputs": [
        {
          "output_type": "stream",
          "name": "stdout",
          "text": [
            "Train shape after SMOTE: (398040, 30), (398040,)\n"
          ]
        }
      ]
    },
    {
      "cell_type": "markdown",
      "source": [
        "# ------------------------------\n",
        "# 6️⃣ Save Processed Data\n",
        "# ------------------------------"
      ],
      "metadata": {
        "id": "cZkaM9AKKgKQ"
      }
    },
    {
      "cell_type": "code",
      "source": [
        "# Make DataFrames\n",
        "X_train_res_df = pd.DataFrame(X_train_res)\n",
        "X_test_scaled_df = pd.DataFrame(X_test_scaled)\n",
        "\n",
        "y_train_res_df = pd.DataFrame(y_train_res, columns=['Class']).reset_index(drop=True)\n",
        "y_test_df = pd.DataFrame(y_test, columns=['Class']).reset_index(drop=True)\n",
        "\n",
        "# Combine X and y for easy saving\n",
        "train_ready = pd.concat([X_train_res_df, y_train_res_df], axis=1)\n",
        "test_ready = pd.concat([X_test_scaled_df, y_test_df], axis=1)\n",
        "\n",
        "# Save\n",
        "train_ready.to_csv(\"/content/drive/MyDrive/FraudPulse/data/processed/creditcard_train_ready.csv\", index=False)\n",
        "test_ready.to_csv(\"/content/drive/MyDrive/FraudPulse/data/processed/creditcard_test_ready.csv\", index=False)\n"
      ],
      "metadata": {
        "id": "fuhfnBQaJMMu"
      },
      "execution_count": 10,
      "outputs": []
    },
    {
      "cell_type": "code",
      "source": [],
      "metadata": {
        "id": "UzgZnGLSK0Bx"
      },
      "execution_count": null,
      "outputs": []
    }
  ]
}